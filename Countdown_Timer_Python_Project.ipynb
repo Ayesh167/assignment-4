{
  "nbformat": 4,
  "nbformat_minor": 0,
  "metadata": {
    "colab": {
      "provenance": [],
      "authorship_tag": "ABX9TyN4oAdq5Ayu1cHr9ZjHeYms",
      "include_colab_link": true
    },
    "kernelspec": {
      "name": "python3",
      "display_name": "Python 3"
    },
    "language_info": {
      "name": "python"
    }
  },
  "cells": [
    {
      "cell_type": "markdown",
      "metadata": {
        "id": "view-in-github",
        "colab_type": "text"
      },
      "source": [
        "<a href=\"https://colab.research.google.com/github/Ayesh167/assignment-4/blob/main/Countdown_Timer_Python_Project.ipynb\" target=\"_parent\"><img src=\"https://colab.research.google.com/assets/colab-badge.svg\" alt=\"Open In Colab\"/></a>"
      ]
    },
    {
      "cell_type": "code",
      "execution_count": null,
      "metadata": {
        "colab": {
          "base_uri": "https://localhost:8080/"
        },
        "id": "rWGFDY4gjoYo",
        "outputId": "410ef650-3fc3-49d7-cbe4-8865aa1a66ef"
      },
      "outputs": [
        {
          "output_type": "stream",
          "name": "stdout",
          "text": [
            "🎯 Welcome to the Countdown Timer!\n",
            "⏰ Enter time in seconds: 6\n",
            "⏳ Timer set for 6 seconds. Get ready!\n",
            "\n",
            "🔔 Time’s up! You did it!\n"
          ]
        }
      ],
      "source": [
        "import time\n",
        "\n",
        "def countdown_timer(seconds):\n",
        "    print(f\"⏳ Timer set for {seconds} seconds. Get ready!\")\n",
        "\n",
        "    while seconds:\n",
        "        mins, secs = divmod(seconds, 60)\n",
        "        time_format = f\"{mins:02d}:{secs:02d}\"\n",
        "        print(f\"⌛ {time_format}\", end=\"\\r\")\n",
        "        time.sleep(1)\n",
        "        seconds -= 1\n",
        "\n",
        "    print(\"\\n🔔 Time’s up! You did it!\")\n",
        "\n",
        "def main():\n",
        "    print(\"🎯 Welcome to the Countdown Timer!\")\n",
        "\n",
        "    while True:\n",
        "        try:\n",
        "            user_input = int(input(\"⏰ Enter time in seconds: \"))\n",
        "            countdown_timer(user_input)\n",
        "            break\n",
        "        except ValueError:\n",
        "            print(\"❌ Please enter a valid number (like 30 or 120).\")\n",
        "\n",
        "if __name__ == \"__main__\":\n",
        "    main()\n"
      ]
    }
  ]
}