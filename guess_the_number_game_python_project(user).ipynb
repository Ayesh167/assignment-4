{
  "nbformat": 4,
  "nbformat_minor": 0,
  "metadata": {
    "colab": {
      "provenance": [],
      "authorship_tag": "ABX9TyN6d3DtjD6Lnv3rsS9lq9L8",
      "include_colab_link": true
    },
    "kernelspec": {
      "name": "python3",
      "display_name": "Python 3"
    },
    "language_info": {
      "name": "python"
    }
  },
  "cells": [
    {
      "cell_type": "markdown",
      "metadata": {
        "id": "view-in-github",
        "colab_type": "text"
      },
      "source": [
        "<a href=\"https://colab.research.google.com/github/Ayesh167/assignment-4/blob/main/guess_the_number_game_python_project(user).ipynb\" target=\"_parent\"><img src=\"https://colab.research.google.com/assets/colab-badge.svg\" alt=\"Open In Colab\"/></a>"
      ]
    },
    {
      "cell_type": "code",
      "execution_count": null,
      "metadata": {
        "colab": {
          "base_uri": "https://localhost:8080/"
        },
        "id": "QHOO6R74LM-t",
        "outputId": "78db6203-d8de-4e98-8dc6-5e791e2f30ab"
      },
      "outputs": [
        {
          "output_type": "stream",
          "name": "stdout",
          "text": [
            "Hello! Welcome to the number guessing game!\n",
            "\n",
            "If you'll be able to guess the right number you'll win else it'll tell you the number is too highh ot too low.\n",
            "Guess a number between 1 and 100: 6\n",
            "Too high!\n",
            "Guess a number between 1 and 100: 4\n",
            "Too high!\n",
            "Guess a number between 1 and 100: 2\n",
            "you won\n"
          ]
        }
      ],
      "source": [
        "import random\n",
        "print(\"Hello! Welcome to the number guessing game!\")\n",
        "print(\"\\nIf you'll be able to guess the right number you'll win else it'll tell you the number is too highh ot too low.\")\n",
        "number = random.randint(1, 100)\n",
        "guess = 0\n",
        "while guess != number:\n",
        "    guess = int(input(\"Guess a number between 1 and 100: \"))\n",
        "    if guess < number:\n",
        "        print(\"Too low!\")\n",
        "    elif guess > number:\n",
        "        print(\"Too high!\")\n",
        "    else:\n",
        "        print(\"you won\")"
      ]
    }
  ]
}