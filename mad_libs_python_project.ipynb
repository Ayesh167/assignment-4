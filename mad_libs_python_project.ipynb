{
  "nbformat": 4,
  "nbformat_minor": 0,
  "metadata": {
    "colab": {
      "provenance": [],
      "authorship_tag": "ABX9TyPgfIAyf3DKvrWJpJ7XaV9h",
      "include_colab_link": true
    },
    "kernelspec": {
      "name": "python3",
      "display_name": "Python 3"
    },
    "language_info": {
      "name": "python"
    }
  },
  "cells": [
    {
      "cell_type": "markdown",
      "metadata": {
        "id": "view-in-github",
        "colab_type": "text"
      },
      "source": [
        "<a href=\"https://colab.research.google.com/github/Ayesh167/assignment-4/blob/main/mad_libs_python_project.ipynb\" target=\"_parent\"><img src=\"https://colab.research.google.com/assets/colab-badge.svg\" alt=\"Open In Colab\"/></a>"
      ]
    },
    {
      "cell_type": "code",
      "execution_count": null,
      "metadata": {
        "colab": {
          "base_uri": "https://localhost:8080/"
        },
        "id": "KuTnx7A_k0Yb",
        "outputId": "e2fcec56-ea47-4574-c722-090bb2ff6c09"
      },
      "outputs": [
        {
          "output_type": "stream",
          "name": "stdout",
          "text": [
            "Hello👋! my name is ayesha let's play Mad Libs\n",
            "Here you'll input some words and I'll be going to make some sentences out of it.\n",
            "Sounds fun right let's get started😃\n",
            "Enter a noun: cat\n",
            "Enter a noun: dog\n",
            "Enter a verb: run\n",
            "Enter a verb: play\n",
            "Enter an adjective: white cat\n",
            "Enter an adjective: cute dog\n",
            "Enter an adverb: fast run\n",
            "Enter an adverb: fun play\n",
            "\n",
            "Great! Here's your Mad Lib paragraph:\n",
            "Here's your Mad Lib paragraph\n",
            "One day, a white cat cat decided to run fast run through a cute dog dog. \n",
            "Just then, it started to play fun play, and everyone screamed, \"Not the dog!\" \n",
            "It was the most white cat moment of the whole day.\n"
          ]
        }
      ],
      "source": [
        "print(\"Hello👋! my name is ayesha let's play Mad Libs\")\n",
        "print(\"Here you'll input some words and I'll be going to make some sentences out of it.\")\n",
        "print(\"Sounds fun right let's get started😃\")\n",
        "noun1 = input(\"Enter a noun: \")\n",
        "noun2 = input(\"Enter a noun: \")\n",
        "verb1 = input(\"Enter a verb: \")\n",
        "verb2 = input(\"Enter a verb: \")\n",
        "adjective1 = input(\"Enter an adjective: \")\n",
        "adjective2 = input(\"Enter an adjective: \")\n",
        "adverb1 = input(\"Enter an adverb: \")\n",
        "adverb2 = input(\"Enter an adverb: \")\n",
        "madlibs = f\"\"\"One day, a {adjective1} {noun1} decided to {verb1} {adverb1} through a {adjective2} {noun2}.\n",
        "Just then, it started to {verb2} {adverb2}, and everyone screamed, \"Not the {noun2}!\"\n",
        "It was the most {adjective1} moment of the whole day.\"\"\"\n",
        "print(\"\\n Great! Here's your Mad Lib paragraph🤩\")\n",
        "print(madlibs)"
      ]
    }
  ]
}