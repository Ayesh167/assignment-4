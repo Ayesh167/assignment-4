{
  "cells": [
    {
      "cell_type": "markdown",
      "metadata": {
        "id": "view-in-github",
        "colab_type": "text"
      },
      "source": [
        "<a href=\"https://colab.research.google.com/github/Ayesh167/assignment-4/blob/main/Hangman_Python_Project.ipynb\" target=\"_parent\"><img src=\"https://colab.research.google.com/assets/colab-badge.svg\" alt=\"Open In Colab\"/></a>"
      ]
    },
    {
      "cell_type": "code",
      "execution_count": null,
      "metadata": {
        "colab": {
          "background_save": true,
          "base_uri": "https://localhost:8080/"
        },
        "id": "xzvkMBHCie_p",
        "outputId": "abc65c2d-8d7e-4e74-a86f-b3d21c4f303e"
      },
      "outputs": [
        {
          "name": "stdout",
          "output_type": "stream",
          "text": [
            "😎 Welcome to Hangman, legend.\n",
            "I'm thinking of a word... your mission (should you choose to accept it):\n",
            "👉 Guess it letter by letter — but mess up more than 6 times and... 💀 well... you'll see.\n",
            "\n",
            "Let's goooo!\n",
            "\n",
            "🔤 Word to guess: _ _ _ _ _ _\n",
            "⚠️ That's not even a letter. Try again, buddy.\n",
            "⚠️ That's not even a letter. Try again, buddy.\n",
            "⚠️ That's not even a letter. Try again, buddy.\n"
          ]
        }
      ],
      "source": [
        "import random\n",
        "\n",
        "# 🎯 Word list!\n",
        "word_list = [\"python\", \"hangman\", \"banana\", \"guitar\", \"wizard\", \"galaxy\", \"secret\"]\n",
        "\n",
        "# 🔍 Computer picks a word\n",
        "secret_word = random.choice(word_list)\n",
        "guessed_letters = []\n",
        "tries = 6  # You get 6 wrong guesses\n",
        "\n",
        "def display_word():\n",
        "    display = \"\"\n",
        "    for letter in secret_word:\n",
        "        if letter in guessed_letters:\n",
        "            display += letter + \" \"\n",
        "        else:\n",
        "            display += \"_ \"\n",
        "    return display.strip()\n",
        "\n",
        "def intro():\n",
        "    print(\"😎 Welcome to Hangman, legend.\")\n",
        "    print(\"I'm thinking of a word... your mission (should you choose to accept it):\")\n",
        "    print(\"👉 Guess it letter by letter — but mess up more than 6 times and... 💀 well... you'll see.\")\n",
        "    print(\"\\nLet's goooo!\\n\")\n",
        "    print(\"🔤 Word to guess:\", display_word())\n",
        "\n",
        "def play_hangman():\n",
        "    global tries\n",
        "    intro()\n",
        "\n",
        "    while tries > 0:\n",
        "        guess = input(\"\\n🤔 Your guess (just one letter): \").lower()\n",
        "\n",
        "        if len(guess) != 1 or not guess.isalpha():\n",
        "            print(\"⚠️ That's not even a letter. Try again, buddy.\")\n",
        "            continue\n",
        "\n",
        "        if guess in guessed_letters:\n",
        "            print(\"🙄 You already guessed that one. Try something *new*.\")\n",
        "            continue\n",
        "\n",
        "        guessed_letters.append(guess)\n",
        "\n",
        "        if guess in secret_word:\n",
        "            print(f\"🎯 Boom! '{guess}' is in the word!\")\n",
        "        else:\n",
        "            tries -= 1\n",
        "            print(f\"💔 Nope! '{guess}' isn’t there. You’ve got {tries} tries left. Use ‘em wisely!\")\n",
        "\n",
        "        print(\"\\n📢 Word so far:\", display_word())\n",
        "\n",
        "        if \"_\" not in display_word():\n",
        "            print(\"\\n🎉 YOU DID IT! You saved the hangman. What a hero 🦸\")\n",
        "            break\n",
        "\n",
        "    if \"_\" in display_word():\n",
        "        print(f\"\\n💀 GAME OVER! The word was: '{secret_word}'\")\n",
        "        print(\"Better luck next time... or maybe just study the dictionary 😂\")\n",
        "\n",
        "if __name__ == \"__main__\":\n",
        "    play_hangman()\n"
      ]
    }
  ],
  "metadata": {
    "colab": {
      "provenance": [],
      "authorship_tag": "ABX9TyM08BDKWBJ9yYya4YBjr1/t",
      "include_colab_link": true
    },
    "kernelspec": {
      "display_name": "Python 3",
      "name": "python3"
    },
    "language_info": {
      "name": "python"
    }
  },
  "nbformat": 4,
  "nbformat_minor": 0
}