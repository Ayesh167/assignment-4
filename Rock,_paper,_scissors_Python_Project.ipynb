{
  "cells": [
    {
      "cell_type": "markdown",
      "metadata": {
        "id": "view-in-github",
        "colab_type": "text"
      },
      "source": [
        "<a href=\"https://colab.research.google.com/github/Ayesh167/assignment-4/blob/main/Rock%2C_paper%2C_scissors_Python_Project.ipynb\" target=\"_parent\"><img src=\"https://colab.research.google.com/assets/colab-badge.svg\" alt=\"Open In Colab\"/></a>"
      ]
    },
    {
      "cell_type": "code",
      "execution_count": null,
      "metadata": {
        "colab": {
          "background_save": true,
          "base_uri": "https://localhost:8080/"
        },
        "id": "FlrK6gS9gkkf",
        "outputId": "d42834f7-3357-47bf-dac4-668b6954c925"
      },
      "outputs": [
        {
          "name": "stdout",
          "output_type": "stream",
          "text": [
            "🎮 Welcome to Rock, Paper, Scissors — the sass edition.\n",
            "\n",
            "Okay, ready? Let's go!\n",
            "Rock...\n",
            "Paper...\n",
            "Scissors...\n",
            "Shoot!\n",
            "\n",
            "We both picked Paper... it's a tie! 🤝\n"
          ]
        }
      ],
      "source": [
        "import random\n",
        "import time\n",
        "\n",
        "def get_user_choice():\n",
        "    user_input = input(\"Alright, your move (Rock, Paper, or Scissors): \").lower()\n",
        "    while user_input not in [\"rock\", \"paper\", \"scissors\"]:\n",
        "        user_input = input(\"Come on now, choose *Rock*, *Paper*, or *Scissors*: \").lower()\n",
        "    return user_input\n",
        "\n",
        "def get_computer_choice():\n",
        "    choice = random.choice([\"rock\", \"paper\", \"scissors\"])\n",
        "    return choice\n",
        "\n",
        "def dramatic_countdown():\n",
        "    print(\"\\nOkay, ready? Let's go!\")\n",
        "    for word in [\"Rock...\", \"Paper...\", \"Scissors...\", \"Shoot!\"]:\n",
        "        print(word)\n",
        "        time.sleep(0.5)\n",
        "    print()\n",
        "\n",
        "def determine_winner(user, computer):\n",
        "    if user == computer:\n",
        "        return f\"We both picked {user.capitalize()}... it's a tie! 🤝\"\n",
        "    elif (user == \"rock\" and computer == \"scissors\") or \\\n",
        "         (user == \"scissors\" and computer == \"paper\") or \\\n",
        "         (user == \"paper\" and computer == \"rock\"):\n",
        "        return f\"You picked {user.capitalize()}, I picked {computer.capitalize()}... you got me this time 😤\"\n",
        "    else:\n",
        "        return f\"You picked {user.capitalize()}, I picked {computer.capitalize()}... I win! 😎\"\n",
        "\n",
        "def play_game():\n",
        "    print(\"🎮 Welcome to Rock, Paper, Scissors — the sass edition.\")\n",
        "    while True:\n",
        "        user = get_user_choice()\n",
        "        computer = get_computer_choice()\n",
        "        dramatic_countdown()\n",
        "        print(determine_winner(user, computer))\n",
        "\n",
        "        play_again = input(\"\\nWanna go again? (yes/no): \").lower()\n",
        "        if play_again not in [\"yes\", \"y\"]:\n",
        "            print(\"\\nAlright, good game. Catch you later 👋\")\n",
        "            break\n",
        "        else:\n",
        "            print(\"\\nLet’s run it back!\\n\")\n",
        "\n",
        "if __name__ == \"__main__\":\n",
        "    play_game()\n"
      ]
    }
  ],
  "metadata": {
    "colab": {
      "provenance": [],
      "authorship_tag": "ABX9TyMKk0wpkN3uof0MccOd44o7",
      "include_colab_link": true
    },
    "kernelspec": {
      "display_name": "Python 3",
      "name": "python3"
    },
    "language_info": {
      "name": "python"
    }
  },
  "nbformat": 4,
  "nbformat_minor": 0
}