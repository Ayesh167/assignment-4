{
  "cells": [
    {
      "cell_type": "markdown",
      "metadata": {
        "id": "view-in-github",
        "colab_type": "text"
      },
      "source": [
        "<a href=\"https://colab.research.google.com/github/Ayesh167/assignment-4/blob/main/Guess_the_Number_Game_Python_Project_(computer).ipynb\" target=\"_parent\"><img src=\"https://colab.research.google.com/assets/colab-badge.svg\" alt=\"Open In Colab\"/></a>"
      ]
    },
    {
      "cell_type": "code",
      "execution_count": null,
      "metadata": {
        "colab": {
          "background_save": true,
          "base_uri": "https://localhost:8080/"
        },
        "id": "E8wYl66EWRsU",
        "outputId": "9784c37d-b053-4068-b157-7f35b62c08d9"
      },
      "outputs": [
        {
          "name": "stdout",
          "output_type": "stream",
          "text": [
            "Welcome to the Number Guesser!\n",
            "Think of a number between 1 and 100, and I will try to guess it.\n"
          ]
        }
      ],
      "source": [
        "def computer_guesses_number():\n",
        "    print(\"Welcome to the Number Guesser!\")\n",
        "    print(\"Think of a number between 1 and 100, and I will try to guess it.\")\n",
        "    input(\"Type your number and press enter when you're ready\")\n",
        "\n",
        "    low = 1\n",
        "    high = 100\n",
        "    attempts = 0\n",
        "\n",
        "    while low <= high:\n",
        "        guess = (low + high) // 2\n",
        "        attempts += 1\n",
        "        print(f\"My guess is: {guess}\")\n",
        "\n",
        "        feedback = input(\"Is it (H)igh, (L)ow, or (C)orrect? \").lower()\n",
        "\n",
        "        if feedback == 'c':\n",
        "            print(f\"Yay! I guessed your number {guess} in {attempts} tries!\")\n",
        "            break\n",
        "        elif feedback == 'h':\n",
        "            high = guess - 1\n",
        "        elif feedback == 'l':\n",
        "            low = guess + 1\n",
        "        else:\n",
        "            print(\"Please enter H, L, or C.\")\n",
        "\n",
        "    if low > high:\n",
        "        print(\"Hmm, it seems like something went wrong. Did you cheat? 😄\")\n",
        "\n",
        "computer_guesses_number()\n",
        "\n"
      ]
    }
  ],
  "metadata": {
    "colab": {
      "provenance": [],
      "authorship_tag": "ABX9TyNEFuNeX4TRuVEcgOnQkGwJ",
      "include_colab_link": true
    },
    "kernelspec": {
      "display_name": "Python 3",
      "name": "python3"
    },
    "language_info": {
      "name": "python"
    }
  },
  "nbformat": 4,
  "nbformat_minor": 0
}