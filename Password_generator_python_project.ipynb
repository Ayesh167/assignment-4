{
  "nbformat": 4,
  "nbformat_minor": 0,
  "metadata": {
    "colab": {
      "provenance": [],
      "authorship_tag": "ABX9TyNFjT9dgdWPc9Z+EiSIZZcd",
      "include_colab_link": true
    },
    "kernelspec": {
      "name": "python3",
      "display_name": "Python 3"
    },
    "language_info": {
      "name": "python"
    }
  },
  "cells": [
    {
      "cell_type": "markdown",
      "metadata": {
        "id": "view-in-github",
        "colab_type": "text"
      },
      "source": [
        "<a href=\"https://colab.research.google.com/github/Ayesh167/assignment-4/blob/main/Password_generator_python_project.ipynb\" target=\"_parent\"><img src=\"https://colab.research.google.com/assets/colab-badge.svg\" alt=\"Open In Colab\"/></a>"
      ]
    },
    {
      "cell_type": "code",
      "execution_count": 1,
      "metadata": {
        "colab": {
          "base_uri": "https://localhost:8080/"
        },
        "id": "EXf2p-TLzJAV",
        "outputId": "1e2006f5-9f9d-45be-8369-6e14ba83919f"
      },
      "outputs": [
        {
          "output_type": "stream",
          "name": "stdout",
          "text": [
            "=== Password Generator ===\n",
            "Enter the desired password length: 7\n",
            "Include uppercase letters? (y/n): n\n",
            "Include lowercase letters? (y/n): y\n",
            "Include digits? (y/n): y\n",
            "Include special characters? (y/n): n\n",
            "\n",
            "Generated Password:\n",
            "6u65jjx\n"
          ]
        }
      ],
      "source": [
        "import random\n",
        "import string\n",
        "\n",
        "def generate_password(length, use_uppercase, use_lowercase, use_digits, use_symbols):\n",
        "    character_pool = ''\n",
        "    if use_uppercase:\n",
        "        character_pool += string.ascii_uppercase\n",
        "    if use_lowercase:\n",
        "        character_pool += string.ascii_lowercase\n",
        "    if use_digits:\n",
        "        character_pool += string.digits\n",
        "    if use_symbols:\n",
        "        character_pool += string.punctuation\n",
        "\n",
        "    if not character_pool:\n",
        "        return \"Error: No character types selected.\"\n",
        "\n",
        "    password = ''.join(random.choice(character_pool) for _ in range(length))\n",
        "    return password\n",
        "\n",
        "def get_boolean_input(prompt):\n",
        "    while True:\n",
        "        choice = input(prompt + \" (y/n): \").lower()\n",
        "        if choice in ['y', 'yes']:\n",
        "            return True\n",
        "        elif choice in ['n', 'no']:\n",
        "            return False\n",
        "        else:\n",
        "            print(\"Please enter 'y' or 'n'.\")\n",
        "\n",
        "def main():\n",
        "    print(\"=== Password Generator ===\")\n",
        "    try:\n",
        "        length = int(input(\"Enter the desired password length: \"))\n",
        "        if length <= 0:\n",
        "            print(\"Password length must be greater than 0.\")\n",
        "            return\n",
        "    except ValueError:\n",
        "        print(\"Please enter a valid number.\")\n",
        "        return\n",
        "\n",
        "    use_uppercase = get_boolean_input(\"Include uppercase letters?\")\n",
        "    use_lowercase = get_boolean_input(\"Include lowercase letters?\")\n",
        "    use_digits = get_boolean_input(\"Include digits?\")\n",
        "    use_symbols = get_boolean_input(\"Include special characters?\")\n",
        "\n",
        "    password = generate_password(length, use_uppercase, use_lowercase, use_digits, use_symbols)\n",
        "\n",
        "    print(\"\\nGenerated Password:\")\n",
        "    print(password)\n",
        "\n",
        "if __name__ == \"__main__\":\n",
        "    main()\n"
      ]
    }
  ]
}